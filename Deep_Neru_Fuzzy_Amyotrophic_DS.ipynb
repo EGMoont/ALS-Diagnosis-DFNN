{
 "cells": [
  {
   "cell_type": "code",
   "execution_count": 51,
   "metadata": {
    "id": "nozBUq9Yxjfs"
   },
   "outputs": [],
   "source": [
    "# Statical and Matematical libraries\n",
    "import pandas as pd\n",
    "import numpy as np\n",
    "\n",
    "# Deep Neural Network libraries\n",
    "import tensorflow as tf\n",
    "from tensorflow.keras.models import Sequential\n",
    "from tensorflow.keras.layers import Dense, Dropout\n",
    "\n",
    "# Handling and Scaling data\n",
    "from sklearn.preprocessing import StandardScaler\n",
    "from sklearn.model_selection import train_test_split\n",
    "\n",
    "# Fuzzy function and Modules\n",
    "import skfuzzy as fuzz"
   ]
  },
  {
   "cell_type": "code",
   "execution_count": 14,
   "metadata": {
    "id": "rbBYhkaosI43"
   },
   "outputs": [],
   "source": [
    "# Load ALS Dataset\n",
    "df = pd.read_csv('Minsk2020_ALS_dataset.csv')\n",
    "\n",
    "# Drop some unnecessery columns like ID,Sex \n",
    "features = df.drop(['ID', 'Sex', 'Diagnosis (ALS)'], axis=1)  # Remove non-numeric or non-relevant columns\n",
    "target = df['Diagnosis (ALS)']\n",
    "\n",
    "# Scale numerical features\n",
    "scaler = StandardScaler()\n",
    "features_scaled = scaler.fit_transform(features)\n",
    "\n",
    "X = features.values\n",
    "y = target.values\n",
    "\n",
    "# Split the data into training and testing sets\n",
    "X_train, X_test, y_train, y_test = train_test_split(X, y, test_size=0.2, random_state=42)"
   ]
  },
  {
   "cell_type": "code",
   "execution_count": 15,
   "metadata": {
    "colab": {
     "base_uri": "https://localhost:8080/",
     "height": 367
    },
    "id": "_WtcT1MiBJ0E",
    "outputId": "20178370-c3fe-4dac-bfb2-0f2732769cbb"
   },
   "outputs": [
    {
     "data": {
      "text/html": [
       "<div>\n",
       "<style scoped>\n",
       "    .dataframe tbody tr th:only-of-type {\n",
       "        vertical-align: middle;\n",
       "    }\n",
       "\n",
       "    .dataframe tbody tr th {\n",
       "        vertical-align: top;\n",
       "    }\n",
       "\n",
       "    .dataframe thead th {\n",
       "        text-align: right;\n",
       "    }\n",
       "</style>\n",
       "<table border=\"1\" class=\"dataframe\">\n",
       "  <thead>\n",
       "    <tr style=\"text-align: right;\">\n",
       "      <th></th>\n",
       "      <th>ID</th>\n",
       "      <th>Age</th>\n",
       "      <th>J1_a</th>\n",
       "      <th>J3_a</th>\n",
       "      <th>J5_a</th>\n",
       "      <th>J55_a</th>\n",
       "      <th>S1_a</th>\n",
       "      <th>S3_a</th>\n",
       "      <th>S5_a</th>\n",
       "      <th>S11_a</th>\n",
       "      <th>...</th>\n",
       "      <th>dCCi(7)</th>\n",
       "      <th>dCCi(8)</th>\n",
       "      <th>dCCi(9)</th>\n",
       "      <th>dCCi(10)</th>\n",
       "      <th>dCCi(11)</th>\n",
       "      <th>dCCi(12)</th>\n",
       "      <th>d_1</th>\n",
       "      <th>F2_i</th>\n",
       "      <th>F2_{conv}</th>\n",
       "      <th>Diagnosis (ALS)</th>\n",
       "    </tr>\n",
       "  </thead>\n",
       "  <tbody>\n",
       "    <tr>\n",
       "      <th>count</th>\n",
       "      <td>64.000000</td>\n",
       "      <td>64.000000</td>\n",
       "      <td>64.000000</td>\n",
       "      <td>64.000000</td>\n",
       "      <td>64.000000</td>\n",
       "      <td>64.000000</td>\n",
       "      <td>64.000000</td>\n",
       "      <td>64.000000</td>\n",
       "      <td>64.000000</td>\n",
       "      <td>64.000000</td>\n",
       "      <td>...</td>\n",
       "      <td>64.000000</td>\n",
       "      <td>64.000000</td>\n",
       "      <td>64.000000</td>\n",
       "      <td>64.000000</td>\n",
       "      <td>64.000000</td>\n",
       "      <td>64.000000</td>\n",
       "      <td>64.000000</td>\n",
       "      <td>64.000000</td>\n",
       "      <td>64.000000</td>\n",
       "      <td>64.000000</td>\n",
       "    </tr>\n",
       "    <tr>\n",
       "      <th>mean</th>\n",
       "      <td>67.875000</td>\n",
       "      <td>56.390625</td>\n",
       "      <td>0.658951</td>\n",
       "      <td>0.379242</td>\n",
       "      <td>0.395886</td>\n",
       "      <td>0.945496</td>\n",
       "      <td>5.072071</td>\n",
       "      <td>2.617924</td>\n",
       "      <td>3.078959</td>\n",
       "      <td>4.393513</td>\n",
       "      <td>...</td>\n",
       "      <td>0.003393</td>\n",
       "      <td>0.006224</td>\n",
       "      <td>-0.002889</td>\n",
       "      <td>-0.002152</td>\n",
       "      <td>-0.001969</td>\n",
       "      <td>0.001269</td>\n",
       "      <td>9.164473</td>\n",
       "      <td>2495.116475</td>\n",
       "      <td>1209.976405</td>\n",
       "      <td>0.484375</td>\n",
       "    </tr>\n",
       "    <tr>\n",
       "      <th>std</th>\n",
       "      <td>37.358198</td>\n",
       "      <td>10.203668</td>\n",
       "      <td>0.724002</td>\n",
       "      <td>0.435636</td>\n",
       "      <td>0.431926</td>\n",
       "      <td>0.791558</td>\n",
       "      <td>4.087221</td>\n",
       "      <td>2.289347</td>\n",
       "      <td>2.568471</td>\n",
       "      <td>3.327968</td>\n",
       "      <td>...</td>\n",
       "      <td>0.033268</td>\n",
       "      <td>0.024670</td>\n",
       "      <td>0.028315</td>\n",
       "      <td>0.019542</td>\n",
       "      <td>0.018012</td>\n",
       "      <td>0.020800</td>\n",
       "      <td>2.681449</td>\n",
       "      <td>617.755856</td>\n",
       "      <td>553.694046</td>\n",
       "      <td>0.503706</td>\n",
       "    </tr>\n",
       "    <tr>\n",
       "      <th>min</th>\n",
       "      <td>2.000000</td>\n",
       "      <td>34.000000</td>\n",
       "      <td>0.098881</td>\n",
       "      <td>0.065791</td>\n",
       "      <td>0.092655</td>\n",
       "      <td>0.285497</td>\n",
       "      <td>0.883453</td>\n",
       "      <td>0.449099</td>\n",
       "      <td>0.497111</td>\n",
       "      <td>0.804179</td>\n",
       "      <td>...</td>\n",
       "      <td>-0.052002</td>\n",
       "      <td>-0.069202</td>\n",
       "      <td>-0.120838</td>\n",
       "      <td>-0.065735</td>\n",
       "      <td>-0.042955</td>\n",
       "      <td>-0.083977</td>\n",
       "      <td>2.276702</td>\n",
       "      <td>444.730268</td>\n",
       "      <td>48.246203</td>\n",
       "      <td>0.000000</td>\n",
       "    </tr>\n",
       "    <tr>\n",
       "      <th>25%</th>\n",
       "      <td>31.750000</td>\n",
       "      <td>50.750000</td>\n",
       "      <td>0.325932</td>\n",
       "      <td>0.172422</td>\n",
       "      <td>0.198274</td>\n",
       "      <td>0.538387</td>\n",
       "      <td>2.641830</td>\n",
       "      <td>1.369446</td>\n",
       "      <td>1.508064</td>\n",
       "      <td>2.123761</td>\n",
       "      <td>...</td>\n",
       "      <td>-0.008234</td>\n",
       "      <td>-0.004222</td>\n",
       "      <td>-0.009654</td>\n",
       "      <td>-0.009853</td>\n",
       "      <td>-0.012674</td>\n",
       "      <td>-0.006534</td>\n",
       "      <td>7.604734</td>\n",
       "      <td>2051.627447</td>\n",
       "      <td>800.181156</td>\n",
       "      <td>0.000000</td>\n",
       "    </tr>\n",
       "    <tr>\n",
       "      <th>50%</th>\n",
       "      <td>66.500000</td>\n",
       "      <td>58.000000</td>\n",
       "      <td>0.458935</td>\n",
       "      <td>0.253976</td>\n",
       "      <td>0.293405</td>\n",
       "      <td>0.698183</td>\n",
       "      <td>4.198486</td>\n",
       "      <td>1.966045</td>\n",
       "      <td>2.653666</td>\n",
       "      <td>3.634994</td>\n",
       "      <td>...</td>\n",
       "      <td>0.000775</td>\n",
       "      <td>0.006272</td>\n",
       "      <td>-0.000937</td>\n",
       "      <td>-0.001614</td>\n",
       "      <td>-0.003921</td>\n",
       "      <td>0.000661</td>\n",
       "      <td>9.646564</td>\n",
       "      <td>2471.097222</td>\n",
       "      <td>1206.596083</td>\n",
       "      <td>0.000000</td>\n",
       "    </tr>\n",
       "    <tr>\n",
       "      <th>75%</th>\n",
       "      <td>98.250000</td>\n",
       "      <td>63.250000</td>\n",
       "      <td>0.772783</td>\n",
       "      <td>0.465699</td>\n",
       "      <td>0.476541</td>\n",
       "      <td>1.189025</td>\n",
       "      <td>6.259731</td>\n",
       "      <td>3.258184</td>\n",
       "      <td>3.801504</td>\n",
       "      <td>5.644808</td>\n",
       "      <td>...</td>\n",
       "      <td>0.011561</td>\n",
       "      <td>0.019092</td>\n",
       "      <td>0.006745</td>\n",
       "      <td>0.008349</td>\n",
       "      <td>0.005578</td>\n",
       "      <td>0.009515</td>\n",
       "      <td>10.757522</td>\n",
       "      <td>2938.236560</td>\n",
       "      <td>1551.677678</td>\n",
       "      <td>1.000000</td>\n",
       "    </tr>\n",
       "    <tr>\n",
       "      <th>max</th>\n",
       "      <td>131.000000</td>\n",
       "      <td>80.000000</td>\n",
       "      <td>5.391649</td>\n",
       "      <td>3.217293</td>\n",
       "      <td>3.321567</td>\n",
       "      <td>5.991336</td>\n",
       "      <td>29.441589</td>\n",
       "      <td>16.791944</td>\n",
       "      <td>18.368778</td>\n",
       "      <td>20.750202</td>\n",
       "      <td>...</td>\n",
       "      <td>0.220533</td>\n",
       "      <td>0.089766</td>\n",
       "      <td>0.080337</td>\n",
       "      <td>0.057303</td>\n",
       "      <td>0.061026</td>\n",
       "      <td>0.077897</td>\n",
       "      <td>15.420777</td>\n",
       "      <td>3599.554394</td>\n",
       "      <td>2441.219054</td>\n",
       "      <td>1.000000</td>\n",
       "    </tr>\n",
       "  </tbody>\n",
       "</table>\n",
       "<p>8 rows × 134 columns</p>\n",
       "</div>"
      ],
      "text/plain": [
       "               ID        Age       J1_a       J3_a       J5_a      J55_a  \\\n",
       "count   64.000000  64.000000  64.000000  64.000000  64.000000  64.000000   \n",
       "mean    67.875000  56.390625   0.658951   0.379242   0.395886   0.945496   \n",
       "std     37.358198  10.203668   0.724002   0.435636   0.431926   0.791558   \n",
       "min      2.000000  34.000000   0.098881   0.065791   0.092655   0.285497   \n",
       "25%     31.750000  50.750000   0.325932   0.172422   0.198274   0.538387   \n",
       "50%     66.500000  58.000000   0.458935   0.253976   0.293405   0.698183   \n",
       "75%     98.250000  63.250000   0.772783   0.465699   0.476541   1.189025   \n",
       "max    131.000000  80.000000   5.391649   3.217293   3.321567   5.991336   \n",
       "\n",
       "            S1_a       S3_a       S5_a      S11_a  ...    dCCi(7)    dCCi(8)  \\\n",
       "count  64.000000  64.000000  64.000000  64.000000  ...  64.000000  64.000000   \n",
       "mean    5.072071   2.617924   3.078959   4.393513  ...   0.003393   0.006224   \n",
       "std     4.087221   2.289347   2.568471   3.327968  ...   0.033268   0.024670   \n",
       "min     0.883453   0.449099   0.497111   0.804179  ...  -0.052002  -0.069202   \n",
       "25%     2.641830   1.369446   1.508064   2.123761  ...  -0.008234  -0.004222   \n",
       "50%     4.198486   1.966045   2.653666   3.634994  ...   0.000775   0.006272   \n",
       "75%     6.259731   3.258184   3.801504   5.644808  ...   0.011561   0.019092   \n",
       "max    29.441589  16.791944  18.368778  20.750202  ...   0.220533   0.089766   \n",
       "\n",
       "         dCCi(9)   dCCi(10)   dCCi(11)   dCCi(12)        d_1         F2_i  \\\n",
       "count  64.000000  64.000000  64.000000  64.000000  64.000000    64.000000   \n",
       "mean   -0.002889  -0.002152  -0.001969   0.001269   9.164473  2495.116475   \n",
       "std     0.028315   0.019542   0.018012   0.020800   2.681449   617.755856   \n",
       "min    -0.120838  -0.065735  -0.042955  -0.083977   2.276702   444.730268   \n",
       "25%    -0.009654  -0.009853  -0.012674  -0.006534   7.604734  2051.627447   \n",
       "50%    -0.000937  -0.001614  -0.003921   0.000661   9.646564  2471.097222   \n",
       "75%     0.006745   0.008349   0.005578   0.009515  10.757522  2938.236560   \n",
       "max     0.080337   0.057303   0.061026   0.077897  15.420777  3599.554394   \n",
       "\n",
       "         F2_{conv}  Diagnosis (ALS)  \n",
       "count    64.000000        64.000000  \n",
       "mean   1209.976405         0.484375  \n",
       "std     553.694046         0.503706  \n",
       "min      48.246203         0.000000  \n",
       "25%     800.181156         0.000000  \n",
       "50%    1206.596083         0.000000  \n",
       "75%    1551.677678         1.000000  \n",
       "max    2441.219054         1.000000  \n",
       "\n",
       "[8 rows x 134 columns]"
      ]
     },
     "execution_count": 15,
     "metadata": {},
     "output_type": "execute_result"
    }
   ],
   "source": [
    "df.describe()"
   ]
  },
  {
   "cell_type": "code",
   "execution_count": 43,
   "metadata": {
    "id": "TrQvWNJfsjCe"
   },
   "outputs": [],
   "source": [
    "# Fuzzify input data (trimf membership function)\n",
    "# Note: Adjust fuzzification method and parameters\n",
    "\n",
    "fuzzified_X_train = []\n",
    "fuzzified_X_test = []\n",
    "\n",
    "for col in range(X_train.shape[1]):\n",
    "    membership = fuzz.trimf(X_train[:, col], [np.min(X_train[:, col]), np.mean(X_train[:, col]), np.max(X_train[:, col])])\n",
    "    fuzzified_X_train.append(membership)\n",
    "\n",
    "for col in range(X_test.shape[1]):\n",
    "    membership = fuzz.trimf(X_test[:, col], [np.min(X_test[:, col]), np.mean(X_test[:, col]), np.max(X_test[:, col])])\n",
    "    fuzzified_X_test.append(membership)\n",
    "\n",
    "fuzzified_X_train = np.array(fuzzified_X_train).T \n",
    "fuzzified_X_test = np.array(fuzzified_X_test).T"
   ]
  },
  {
   "cell_type": "code",
   "execution_count": 44,
   "metadata": {
    "colab": {
     "base_uri": "https://localhost:8080/"
    },
    "id": "_XDJYva-xhqe",
    "outputId": "fa6e9a24-c6ee-4d1f-e40d-664e8bde29d4"
   },
   "outputs": [
    {
     "data": {
      "text/html": [
       "<pre style=\"white-space:pre;overflow-x:auto;line-height:normal;font-family:Menlo,'DejaVu Sans Mono',consolas,'Courier New',monospace\"><span style=\"font-weight: bold\">Model: \"sequential_13\"</span>\n",
       "</pre>\n"
      ],
      "text/plain": [
       "\u001b[1mModel: \"sequential_13\"\u001b[0m\n"
      ]
     },
     "metadata": {},
     "output_type": "display_data"
    },
    {
     "data": {
      "text/html": [
       "<pre style=\"white-space:pre;overflow-x:auto;line-height:normal;font-family:Menlo,'DejaVu Sans Mono',consolas,'Courier New',monospace\">┏━━━━━━━━━━━━━━━━━━━━━━━━━━━━━━━━━┳━━━━━━━━━━━━━━━━━━━━━━━━┳━━━━━━━━━━━━━━━┓\n",
       "┃<span style=\"font-weight: bold\"> Layer (type)                    </span>┃<span style=\"font-weight: bold\"> Output Shape           </span>┃<span style=\"font-weight: bold\">       Param # </span>┃\n",
       "┡━━━━━━━━━━━━━━━━━━━━━━━━━━━━━━━━━╇━━━━━━━━━━━━━━━━━━━━━━━━╇━━━━━━━━━━━━━━━┩\n",
       "│ dense_46 (<span style=\"color: #0087ff; text-decoration-color: #0087ff\">Dense</span>)                │ (<span style=\"color: #00d7ff; text-decoration-color: #00d7ff\">None</span>, <span style=\"color: #00af00; text-decoration-color: #00af00\">64</span>)             │         <span style=\"color: #00af00; text-decoration-color: #00af00\">8,512</span> │\n",
       "├─────────────────────────────────┼────────────────────────┼───────────────┤\n",
       "│ dropout_8 (<span style=\"color: #0087ff; text-decoration-color: #0087ff\">Dropout</span>)             │ (<span style=\"color: #00d7ff; text-decoration-color: #00d7ff\">None</span>, <span style=\"color: #00af00; text-decoration-color: #00af00\">64</span>)             │             <span style=\"color: #00af00; text-decoration-color: #00af00\">0</span> │\n",
       "├─────────────────────────────────┼────────────────────────┼───────────────┤\n",
       "│ dense_47 (<span style=\"color: #0087ff; text-decoration-color: #0087ff\">Dense</span>)                │ (<span style=\"color: #00d7ff; text-decoration-color: #00d7ff\">None</span>, <span style=\"color: #00af00; text-decoration-color: #00af00\">32</span>)             │         <span style=\"color: #00af00; text-decoration-color: #00af00\">2,080</span> │\n",
       "├─────────────────────────────────┼────────────────────────┼───────────────┤\n",
       "│ dense_48 (<span style=\"color: #0087ff; text-decoration-color: #0087ff\">Dense</span>)                │ (<span style=\"color: #00d7ff; text-decoration-color: #00d7ff\">None</span>, <span style=\"color: #00af00; text-decoration-color: #00af00\">1</span>)              │            <span style=\"color: #00af00; text-decoration-color: #00af00\">33</span> │\n",
       "└─────────────────────────────────┴────────────────────────┴───────────────┘\n",
       "</pre>\n"
      ],
      "text/plain": [
       "┏━━━━━━━━━━━━━━━━━━━━━━━━━━━━━━━━━┳━━━━━━━━━━━━━━━━━━━━━━━━┳━━━━━━━━━━━━━━━┓\n",
       "┃\u001b[1m \u001b[0m\u001b[1mLayer (type)                   \u001b[0m\u001b[1m \u001b[0m┃\u001b[1m \u001b[0m\u001b[1mOutput Shape          \u001b[0m\u001b[1m \u001b[0m┃\u001b[1m \u001b[0m\u001b[1m      Param #\u001b[0m\u001b[1m \u001b[0m┃\n",
       "┡━━━━━━━━━━━━━━━━━━━━━━━━━━━━━━━━━╇━━━━━━━━━━━━━━━━━━━━━━━━╇━━━━━━━━━━━━━━━┩\n",
       "│ dense_46 (\u001b[38;5;33mDense\u001b[0m)                │ (\u001b[38;5;45mNone\u001b[0m, \u001b[38;5;34m64\u001b[0m)             │         \u001b[38;5;34m8,512\u001b[0m │\n",
       "├─────────────────────────────────┼────────────────────────┼───────────────┤\n",
       "│ dropout_8 (\u001b[38;5;33mDropout\u001b[0m)             │ (\u001b[38;5;45mNone\u001b[0m, \u001b[38;5;34m64\u001b[0m)             │             \u001b[38;5;34m0\u001b[0m │\n",
       "├─────────────────────────────────┼────────────────────────┼───────────────┤\n",
       "│ dense_47 (\u001b[38;5;33mDense\u001b[0m)                │ (\u001b[38;5;45mNone\u001b[0m, \u001b[38;5;34m32\u001b[0m)             │         \u001b[38;5;34m2,080\u001b[0m │\n",
       "├─────────────────────────────────┼────────────────────────┼───────────────┤\n",
       "│ dense_48 (\u001b[38;5;33mDense\u001b[0m)                │ (\u001b[38;5;45mNone\u001b[0m, \u001b[38;5;34m1\u001b[0m)              │            \u001b[38;5;34m33\u001b[0m │\n",
       "└─────────────────────────────────┴────────────────────────┴───────────────┘\n"
      ]
     },
     "metadata": {},
     "output_type": "display_data"
    },
    {
     "data": {
      "text/html": [
       "<pre style=\"white-space:pre;overflow-x:auto;line-height:normal;font-family:Menlo,'DejaVu Sans Mono',consolas,'Courier New',monospace\"><span style=\"font-weight: bold\"> Total params: </span><span style=\"color: #00af00; text-decoration-color: #00af00\">10,625</span> (41.50 KB)\n",
       "</pre>\n"
      ],
      "text/plain": [
       "\u001b[1m Total params: \u001b[0m\u001b[38;5;34m10,625\u001b[0m (41.50 KB)\n"
      ]
     },
     "metadata": {},
     "output_type": "display_data"
    },
    {
     "data": {
      "text/html": [
       "<pre style=\"white-space:pre;overflow-x:auto;line-height:normal;font-family:Menlo,'DejaVu Sans Mono',consolas,'Courier New',monospace\"><span style=\"font-weight: bold\"> Trainable params: </span><span style=\"color: #00af00; text-decoration-color: #00af00\">10,625</span> (41.50 KB)\n",
       "</pre>\n"
      ],
      "text/plain": [
       "\u001b[1m Trainable params: \u001b[0m\u001b[38;5;34m10,625\u001b[0m (41.50 KB)\n"
      ]
     },
     "metadata": {},
     "output_type": "display_data"
    },
    {
     "data": {
      "text/html": [
       "<pre style=\"white-space:pre;overflow-x:auto;line-height:normal;font-family:Menlo,'DejaVu Sans Mono',consolas,'Courier New',monospace\"><span style=\"font-weight: bold\"> Non-trainable params: </span><span style=\"color: #00af00; text-decoration-color: #00af00\">0</span> (0.00 B)\n",
       "</pre>\n"
      ],
      "text/plain": [
       "\u001b[1m Non-trainable params: \u001b[0m\u001b[38;5;34m0\u001b[0m (0.00 B)\n"
      ]
     },
     "metadata": {},
     "output_type": "display_data"
    }
   ],
   "source": [
    "# Define the DFNN architecture\n",
    "model = Sequential([\n",
    "    Dense(64, activation='relu', input_dim=fuzzified_X_train.shape[1]),\n",
    "    Dropout(0.2), \n",
    "    Dense(32, activation='relu'),\n",
    "    # Dense(16, activation='relu'),\n",
    "    Dense(1, activation='sigmoid') \n",
    "])\n",
    "\n",
    "# Compile the model\n",
    "model.compile(optimizer='adam',\n",
    "              loss='binary_crossentropy',  # Binary cross-entropy loss for binary classification\n",
    "              metrics=['accuracy'])\n",
    "\n",
    "# Print model summary\n",
    "model.summary()"
   ]
  },
  {
   "cell_type": "code",
   "execution_count": 45,
   "metadata": {
    "colab": {
     "base_uri": "https://localhost:8080/"
    },
    "id": "4Pv5Qae5smpr",
    "outputId": "dea206a1-f19b-4e6a-8d6f-f6b44999cc4f"
   },
   "outputs": [
    {
     "name": "stdout",
     "output_type": "stream",
     "text": [
      "Epoch 1/60\n",
      "\u001b[1m2/2\u001b[0m \u001b[32m━━━━━━━━━━━━━━━━━━━━\u001b[0m\u001b[37m\u001b[0m \u001b[1m1s\u001b[0m 134ms/step - accuracy: 0.4726 - loss: 0.7453 - val_accuracy: 0.4615 - val_loss: 0.6920\n",
      "Epoch 2/60\n",
      "\u001b[1m2/2\u001b[0m \u001b[32m━━━━━━━━━━━━━━━━━━━━\u001b[0m\u001b[37m\u001b[0m \u001b[1m0s\u001b[0m 24ms/step - accuracy: 0.4961 - loss: 0.7165 - val_accuracy: 0.6154 - val_loss: 0.6779\n",
      "Epoch 3/60\n",
      "\u001b[1m2/2\u001b[0m \u001b[32m━━━━━━━━━━━━━━━━━━━━\u001b[0m\u001b[37m\u001b[0m \u001b[1m0s\u001b[0m 29ms/step - accuracy: 0.6344 - loss: 0.6547 - val_accuracy: 0.6154 - val_loss: 0.6688\n",
      "Epoch 4/60\n",
      "\u001b[1m2/2\u001b[0m \u001b[32m━━━━━━━━━━━━━━━━━━━━\u001b[0m\u001b[37m\u001b[0m \u001b[1m0s\u001b[0m 27ms/step - accuracy: 0.6189 - loss: 0.6297 - val_accuracy: 0.5385 - val_loss: 0.6660\n",
      "Epoch 5/60\n",
      "\u001b[1m2/2\u001b[0m \u001b[32m━━━━━━━━━━━━━━━━━━━━\u001b[0m\u001b[37m\u001b[0m \u001b[1m0s\u001b[0m 28ms/step - accuracy: 0.7102 - loss: 0.5833 - val_accuracy: 0.5385 - val_loss: 0.6620\n",
      "Epoch 6/60\n",
      "\u001b[1m2/2\u001b[0m \u001b[32m━━━━━━━━━━━━━━━━━━━━\u001b[0m\u001b[37m\u001b[0m \u001b[1m0s\u001b[0m 27ms/step - accuracy: 0.6605 - loss: 0.6492 - val_accuracy: 0.5385 - val_loss: 0.6541\n",
      "Epoch 7/60\n",
      "\u001b[1m2/2\u001b[0m \u001b[32m━━━━━━━━━━━━━━━━━━━━\u001b[0m\u001b[37m\u001b[0m \u001b[1m0s\u001b[0m 22ms/step - accuracy: 0.7259 - loss: 0.5895 - val_accuracy: 0.6154 - val_loss: 0.6514\n",
      "Epoch 8/60\n",
      "\u001b[1m2/2\u001b[0m \u001b[32m━━━━━━━━━━━━━━━━━━━━\u001b[0m\u001b[37m\u001b[0m \u001b[1m0s\u001b[0m 25ms/step - accuracy: 0.7337 - loss: 0.5287 - val_accuracy: 0.6923 - val_loss: 0.6491\n",
      "Epoch 9/60\n",
      "\u001b[1m2/2\u001b[0m \u001b[32m━━━━━━━━━━━━━━━━━━━━\u001b[0m\u001b[37m\u001b[0m \u001b[1m0s\u001b[0m 45ms/step - accuracy: 0.7937 - loss: 0.5374 - val_accuracy: 0.6923 - val_loss: 0.6474\n",
      "Epoch 10/60\n",
      "\u001b[1m2/2\u001b[0m \u001b[32m━━━━━━━━━━━━━━━━━━━━\u001b[0m\u001b[37m\u001b[0m \u001b[1m0s\u001b[0m 39ms/step - accuracy: 0.7833 - loss: 0.5440 - val_accuracy: 0.6923 - val_loss: 0.6425\n",
      "Epoch 11/60\n",
      "\u001b[1m2/2\u001b[0m \u001b[32m━━━━━━━━━━━━━━━━━━━━\u001b[0m\u001b[37m\u001b[0m \u001b[1m0s\u001b[0m 24ms/step - accuracy: 0.6658 - loss: 0.6095 - val_accuracy: 0.6923 - val_loss: 0.6388\n",
      "Epoch 12/60\n",
      "\u001b[1m2/2\u001b[0m \u001b[32m━━━━━━━━━━━━━━━━━━━━\u001b[0m\u001b[37m\u001b[0m \u001b[1m0s\u001b[0m 30ms/step - accuracy: 0.7024 - loss: 0.5232 - val_accuracy: 0.6923 - val_loss: 0.6395\n",
      "Epoch 13/60\n",
      "\u001b[1m2/2\u001b[0m \u001b[32m━━━━━━━━━━━━━━━━━━━━\u001b[0m\u001b[37m\u001b[0m \u001b[1m0s\u001b[0m 29ms/step - accuracy: 0.7128 - loss: 0.5431 - val_accuracy: 0.6923 - val_loss: 0.6422\n",
      "Epoch 14/60\n",
      "\u001b[1m2/2\u001b[0m \u001b[32m━━━━━━━━━━━━━━━━━━━━\u001b[0m\u001b[37m\u001b[0m \u001b[1m0s\u001b[0m 28ms/step - accuracy: 0.7702 - loss: 0.5279 - val_accuracy: 0.6923 - val_loss: 0.6406\n",
      "Epoch 15/60\n",
      "\u001b[1m2/2\u001b[0m \u001b[32m━━━━━━━━━━━━━━━━━━━━\u001b[0m\u001b[37m\u001b[0m \u001b[1m0s\u001b[0m 66ms/step - accuracy: 0.8199 - loss: 0.4431 - val_accuracy: 0.6154 - val_loss: 0.6410\n",
      "Epoch 16/60\n",
      "\u001b[1m2/2\u001b[0m \u001b[32m━━━━━━━━━━━━━━━━━━━━\u001b[0m\u001b[37m\u001b[0m \u001b[1m0s\u001b[0m 26ms/step - accuracy: 0.8903 - loss: 0.4311 - val_accuracy: 0.6154 - val_loss: 0.6438\n",
      "Epoch 17/60\n",
      "\u001b[1m2/2\u001b[0m \u001b[32m━━━━━━━━━━━━━━━━━━━━\u001b[0m\u001b[37m\u001b[0m \u001b[1m0s\u001b[0m 26ms/step - accuracy: 0.8094 - loss: 0.4843 - val_accuracy: 0.6154 - val_loss: 0.6482\n",
      "Epoch 18/60\n",
      "\u001b[1m2/2\u001b[0m \u001b[32m━━━━━━━━━━━━━━━━━━━━\u001b[0m\u001b[37m\u001b[0m \u001b[1m0s\u001b[0m 26ms/step - accuracy: 0.8068 - loss: 0.4462 - val_accuracy: 0.6923 - val_loss: 0.6516\n",
      "Epoch 19/60\n",
      "\u001b[1m2/2\u001b[0m \u001b[32m━━━━━━━━━━━━━━━━━━━━\u001b[0m\u001b[37m\u001b[0m \u001b[1m0s\u001b[0m 26ms/step - accuracy: 0.7702 - loss: 0.5019 - val_accuracy: 0.6923 - val_loss: 0.6632\n",
      "Epoch 20/60\n",
      "\u001b[1m2/2\u001b[0m \u001b[32m━━━━━━━━━━━━━━━━━━━━\u001b[0m\u001b[37m\u001b[0m \u001b[1m0s\u001b[0m 26ms/step - accuracy: 0.7859 - loss: 0.4384 - val_accuracy: 0.6154 - val_loss: 0.6738\n",
      "Epoch 21/60\n",
      "\u001b[1m2/2\u001b[0m \u001b[32m━━━━━━━━━━━━━━━━━━━━\u001b[0m\u001b[37m\u001b[0m \u001b[1m0s\u001b[0m 26ms/step - accuracy: 0.8303 - loss: 0.4569 - val_accuracy: 0.6154 - val_loss: 0.6752\n",
      "Epoch 22/60\n",
      "\u001b[1m2/2\u001b[0m \u001b[32m━━━━━━━━━━━━━━━━━━━━\u001b[0m\u001b[37m\u001b[0m \u001b[1m0s\u001b[0m 28ms/step - accuracy: 0.8695 - loss: 0.3914 - val_accuracy: 0.6923 - val_loss: 0.6701\n",
      "Epoch 23/60\n",
      "\u001b[1m2/2\u001b[0m \u001b[32m━━━━━━━━━━━━━━━━━━━━\u001b[0m\u001b[37m\u001b[0m \u001b[1m0s\u001b[0m 28ms/step - accuracy: 0.8303 - loss: 0.4462 - val_accuracy: 0.6923 - val_loss: 0.6632\n",
      "Epoch 24/60\n",
      "\u001b[1m2/2\u001b[0m \u001b[32m━━━━━━━━━━━━━━━━━━━━\u001b[0m\u001b[37m\u001b[0m \u001b[1m0s\u001b[0m 52ms/step - accuracy: 0.8538 - loss: 0.3628 - val_accuracy: 0.6154 - val_loss: 0.6605\n",
      "Epoch 25/60\n",
      "\u001b[1m2/2\u001b[0m \u001b[32m━━━━━━━━━━━━━━━━━━━━\u001b[0m\u001b[37m\u001b[0m \u001b[1m0s\u001b[0m 99ms/step - accuracy: 0.7964 - loss: 0.4245 - val_accuracy: 0.6923 - val_loss: 0.6618\n",
      "Epoch 26/60\n",
      "\u001b[1m2/2\u001b[0m \u001b[32m━━━━━━━━━━━━━━━━━━━━\u001b[0m\u001b[37m\u001b[0m \u001b[1m0s\u001b[0m 27ms/step - accuracy: 0.8356 - loss: 0.3500 - val_accuracy: 0.6923 - val_loss: 0.6667\n",
      "Epoch 27/60\n",
      "\u001b[1m2/2\u001b[0m \u001b[32m━━━━━━━━━━━━━━━━━━━━\u001b[0m\u001b[37m\u001b[0m \u001b[1m0s\u001b[0m 27ms/step - accuracy: 0.8460 - loss: 0.3940 - val_accuracy: 0.6923 - val_loss: 0.6733\n",
      "Epoch 28/60\n",
      "\u001b[1m2/2\u001b[0m \u001b[32m━━━━━━━━━━━━━━━━━━━━\u001b[0m\u001b[37m\u001b[0m \u001b[1m0s\u001b[0m 30ms/step - accuracy: 0.8930 - loss: 0.3413 - val_accuracy: 0.6923 - val_loss: 0.6780\n",
      "Epoch 29/60\n",
      "\u001b[1m2/2\u001b[0m \u001b[32m━━━━━━━━━━━━━━━━━━━━\u001b[0m\u001b[37m\u001b[0m \u001b[1m0s\u001b[0m 25ms/step - accuracy: 0.8668 - loss: 0.3538 - val_accuracy: 0.6923 - val_loss: 0.6794\n",
      "Epoch 30/60\n",
      "\u001b[1m2/2\u001b[0m \u001b[32m━━━━━━━━━━━━━━━━━━━━\u001b[0m\u001b[37m\u001b[0m \u001b[1m0s\u001b[0m 27ms/step - accuracy: 0.8199 - loss: 0.3503 - val_accuracy: 0.6923 - val_loss: 0.6778\n",
      "Epoch 31/60\n",
      "\u001b[1m2/2\u001b[0m \u001b[32m━━━━━━━━━━━━━━━━━━━━\u001b[0m\u001b[37m\u001b[0m \u001b[1m0s\u001b[0m 28ms/step - accuracy: 0.8668 - loss: 0.3003 - val_accuracy: 0.6923 - val_loss: 0.6769\n",
      "Epoch 32/60\n",
      "\u001b[1m2/2\u001b[0m \u001b[32m━━━━━━━━━━━━━━━━━━━━\u001b[0m\u001b[37m\u001b[0m \u001b[1m0s\u001b[0m 26ms/step - accuracy: 0.8772 - loss: 0.3560 - val_accuracy: 0.6923 - val_loss: 0.6770\n",
      "Epoch 33/60\n",
      "\u001b[1m2/2\u001b[0m \u001b[32m━━━━━━━━━━━━━━━━━━━━\u001b[0m\u001b[37m\u001b[0m \u001b[1m0s\u001b[0m 27ms/step - accuracy: 0.8799 - loss: 0.3550 - val_accuracy: 0.6923 - val_loss: 0.6757\n",
      "Epoch 34/60\n",
      "\u001b[1m2/2\u001b[0m \u001b[32m━━━━━━━━━━━━━━━━━━━━\u001b[0m\u001b[37m\u001b[0m \u001b[1m0s\u001b[0m 33ms/step - accuracy: 0.8826 - loss: 0.3323 - val_accuracy: 0.6923 - val_loss: 0.6733\n",
      "Epoch 35/60\n",
      "\u001b[1m2/2\u001b[0m \u001b[32m━━━━━━━━━━━━━━━━━━━━\u001b[0m\u001b[37m\u001b[0m \u001b[1m0s\u001b[0m 23ms/step - accuracy: 0.8826 - loss: 0.2988 - val_accuracy: 0.6923 - val_loss: 0.6716\n",
      "Epoch 36/60\n",
      "\u001b[1m2/2\u001b[0m \u001b[32m━━━━━━━━━━━━━━━━━━━━\u001b[0m\u001b[37m\u001b[0m \u001b[1m0s\u001b[0m 64ms/step - accuracy: 0.9269 - loss: 0.2796 - val_accuracy: 0.6923 - val_loss: 0.6706\n",
      "Epoch 37/60\n",
      "\u001b[1m2/2\u001b[0m \u001b[32m━━━━━━━━━━━━━━━━━━━━\u001b[0m\u001b[37m\u001b[0m \u001b[1m0s\u001b[0m 20ms/step - accuracy: 0.9269 - loss: 0.2543 - val_accuracy: 0.6923 - val_loss: 0.6749\n",
      "Epoch 38/60\n",
      "\u001b[1m2/2\u001b[0m \u001b[32m━━━━━━━━━━━━━━━━━━━━\u001b[0m\u001b[37m\u001b[0m \u001b[1m0s\u001b[0m 21ms/step - accuracy: 0.9007 - loss: 0.3131 - val_accuracy: 0.6923 - val_loss: 0.6714\n",
      "Epoch 39/60\n",
      "\u001b[1m2/2\u001b[0m \u001b[32m━━━━━━━━━━━━━━━━━━━━\u001b[0m\u001b[37m\u001b[0m \u001b[1m0s\u001b[0m 21ms/step - accuracy: 0.8329 - loss: 0.3201 - val_accuracy: 0.7692 - val_loss: 0.6691\n",
      "Epoch 40/60\n",
      "\u001b[1m2/2\u001b[0m \u001b[32m━━━━━━━━━━━━━━━━━━━━\u001b[0m\u001b[37m\u001b[0m \u001b[1m0s\u001b[0m 22ms/step - accuracy: 0.8930 - loss: 0.2652 - val_accuracy: 0.7692 - val_loss: 0.6697\n",
      "Epoch 41/60\n",
      "\u001b[1m2/2\u001b[0m \u001b[32m━━━━━━━━━━━━━━━━━━━━\u001b[0m\u001b[37m\u001b[0m \u001b[1m0s\u001b[0m 20ms/step - accuracy: 0.9242 - loss: 0.2514 - val_accuracy: 0.7692 - val_loss: 0.6709\n",
      "Epoch 42/60\n",
      "\u001b[1m2/2\u001b[0m \u001b[32m━━━━━━━━━━━━━━━━━━━━\u001b[0m\u001b[37m\u001b[0m \u001b[1m0s\u001b[0m 20ms/step - accuracy: 0.9373 - loss: 0.2461 - val_accuracy: 0.6923 - val_loss: 0.6754\n",
      "Epoch 43/60\n",
      "\u001b[1m2/2\u001b[0m \u001b[32m━━━━━━━━━━━━━━━━━━━━\u001b[0m\u001b[37m\u001b[0m \u001b[1m0s\u001b[0m 20ms/step - accuracy: 0.9504 - loss: 0.2370 - val_accuracy: 0.7692 - val_loss: 0.6895\n",
      "Epoch 44/60\n",
      "\u001b[1m2/2\u001b[0m \u001b[32m━━━━━━━━━━━━━━━━━━━━\u001b[0m\u001b[37m\u001b[0m \u001b[1m0s\u001b[0m 22ms/step - accuracy: 0.9138 - loss: 0.2424 - val_accuracy: 0.6923 - val_loss: 0.6845\n",
      "Epoch 45/60\n",
      "\u001b[1m2/2\u001b[0m \u001b[32m━━━━━━━━━━━━━━━━━━━━\u001b[0m\u001b[37m\u001b[0m \u001b[1m0s\u001b[0m 35ms/step - accuracy: 0.9034 - loss: 0.1874 - val_accuracy: 0.7692 - val_loss: 0.6768\n",
      "Epoch 46/60\n",
      "\u001b[1m2/2\u001b[0m \u001b[32m━━━━━━━━━━━━━━━━━━━━\u001b[0m\u001b[37m\u001b[0m \u001b[1m0s\u001b[0m 25ms/step - accuracy: 0.9765 - loss: 0.2012 - val_accuracy: 0.7692 - val_loss: 0.6786\n",
      "Epoch 47/60\n",
      "\u001b[1m2/2\u001b[0m \u001b[32m━━━━━━━━━━━━━━━━━━━━\u001b[0m\u001b[37m\u001b[0m \u001b[1m0s\u001b[0m 26ms/step - accuracy: 0.9269 - loss: 0.2177 - val_accuracy: 0.6923 - val_loss: 0.6817\n",
      "Epoch 48/60\n",
      "\u001b[1m2/2\u001b[0m \u001b[32m━━━━━━━━━━━━━━━━━━━━\u001b[0m\u001b[37m\u001b[0m \u001b[1m0s\u001b[0m 35ms/step - accuracy: 0.9165 - loss: 0.2313 - val_accuracy: 0.7692 - val_loss: 0.6851\n",
      "Epoch 49/60\n",
      "\u001b[1m2/2\u001b[0m \u001b[32m━━━━━━━━━━━━━━━━━━━━\u001b[0m\u001b[37m\u001b[0m \u001b[1m0s\u001b[0m 31ms/step - accuracy: 0.8799 - loss: 0.2496 - val_accuracy: 0.7692 - val_loss: 0.6891\n",
      "Epoch 50/60\n",
      "\u001b[1m2/2\u001b[0m \u001b[32m━━━━━━━━━━━━━━━━━━━━\u001b[0m\u001b[37m\u001b[0m \u001b[1m0s\u001b[0m 26ms/step - accuracy: 0.9295 - loss: 0.2335 - val_accuracy: 0.7692 - val_loss: 0.6961\n",
      "Epoch 51/60\n",
      "\u001b[1m2/2\u001b[0m \u001b[32m━━━━━━━━━━━━━━━━━━━━\u001b[0m\u001b[37m\u001b[0m \u001b[1m0s\u001b[0m 31ms/step - accuracy: 0.9634 - loss: 0.1374 - val_accuracy: 0.7692 - val_loss: 0.6988\n",
      "Epoch 52/60\n",
      "\u001b[1m2/2\u001b[0m \u001b[32m━━━━━━━━━━━━━━━━━━━━\u001b[0m\u001b[37m\u001b[0m \u001b[1m0s\u001b[0m 28ms/step - accuracy: 0.9400 - loss: 0.2277 - val_accuracy: 0.7692 - val_loss: 0.6962\n",
      "Epoch 53/60\n",
      "\u001b[1m2/2\u001b[0m \u001b[32m━━━━━━━━━━━━━━━━━━━━\u001b[0m\u001b[37m\u001b[0m \u001b[1m0s\u001b[0m 30ms/step - accuracy: 0.9530 - loss: 0.1946 - val_accuracy: 0.7692 - val_loss: 0.6946\n",
      "Epoch 54/60\n",
      "\u001b[1m2/2\u001b[0m \u001b[32m━━━━━━━━━━━━━━━━━━━━\u001b[0m\u001b[37m\u001b[0m \u001b[1m0s\u001b[0m 28ms/step - accuracy: 1.0000 - loss: 0.1096 - val_accuracy: 0.7692 - val_loss: 0.6980\n",
      "Epoch 55/60\n",
      "\u001b[1m2/2\u001b[0m \u001b[32m━━━━━━━━━━━━━━━━━━━━\u001b[0m\u001b[37m\u001b[0m \u001b[1m0s\u001b[0m 26ms/step - accuracy: 0.9295 - loss: 0.1679 - val_accuracy: 0.7692 - val_loss: 0.7059\n",
      "Epoch 56/60\n",
      "\u001b[1m2/2\u001b[0m \u001b[32m━━━━━━━━━━━━━━━━━━━━\u001b[0m\u001b[37m\u001b[0m \u001b[1m0s\u001b[0m 24ms/step - accuracy: 0.9634 - loss: 0.1606 - val_accuracy: 0.7692 - val_loss: 0.7148\n",
      "Epoch 57/60\n",
      "\u001b[1m2/2\u001b[0m \u001b[32m━━━━━━━━━━━━━━━━━━━━\u001b[0m\u001b[37m\u001b[0m \u001b[1m0s\u001b[0m 30ms/step - accuracy: 0.9634 - loss: 0.1294 - val_accuracy: 0.8462 - val_loss: 0.7272\n",
      "Epoch 58/60\n",
      "\u001b[1m2/2\u001b[0m \u001b[32m━━━━━━━━━━━━━━━━━━━━\u001b[0m\u001b[37m\u001b[0m \u001b[1m0s\u001b[0m 31ms/step - accuracy: 0.9165 - loss: 0.1613 - val_accuracy: 0.7692 - val_loss: 0.7429\n",
      "Epoch 59/60\n",
      "\u001b[1m2/2\u001b[0m \u001b[32m━━━━━━━━━━━━━━━━━━━━\u001b[0m\u001b[37m\u001b[0m \u001b[1m0s\u001b[0m 28ms/step - accuracy: 0.9634 - loss: 0.1348 - val_accuracy: 0.8462 - val_loss: 0.7330\n",
      "Epoch 60/60\n",
      "\u001b[1m2/2\u001b[0m \u001b[32m━━━━━━━━━━━━━━━━━━━━\u001b[0m\u001b[37m\u001b[0m \u001b[1m0s\u001b[0m 27ms/step - accuracy: 0.9634 - loss: 0.1341 - val_accuracy: 0.7692 - val_loss: 0.7317\n",
      "\u001b[1m1/1\u001b[0m \u001b[32m━━━━━━━━━━━━━━━━━━━━\u001b[0m\u001b[37m\u001b[0m \u001b[1m0s\u001b[0m 26ms/step - accuracy: 0.7692 - loss: 0.7317\n",
      "Loss: 0.731669008731842, Accuracy: 0.7692307829856873\n"
     ]
    }
   ],
   "source": [
    "\n",
    "# Train the model\n",
    "model.fit(fuzzified_X_train, y_train, epochs=60, batch_size=32, validation_data=(fuzzified_X_test, y_test))\n",
    "\n",
    "# Evaluate the model\n",
    "loss, accuracy = model.evaluate(fuzzified_X_test, y_test)\n",
    "print(f'Loss: {loss}, Accuracy: {accuracy}')\n"
   ]
  },
  {
   "cell_type": "code",
   "execution_count": 46,
   "metadata": {
    "colab": {
     "base_uri": "https://localhost:8080/"
    },
    "id": "B172B1IzBRjp",
    "outputId": "34667021-ca20-4926-9d93-29a0bb492ac6"
   },
   "outputs": [
    {
     "name": "stdout",
     "output_type": "stream",
     "text": [
      "\u001b[1m1/1\u001b[0m \u001b[32m━━━━━━━━━━━━━━━━━━━━\u001b[0m\u001b[37m\u001b[0m \u001b[1m0s\u001b[0m 58ms/step\n"
     ]
    }
   ],
   "source": [
    "y_pred_prob =model.predict(fuzzified_X_test)\n",
    "y_pred_prob =(y_pred_prob > 0.5).astype(int)"
   ]
  },
  {
   "cell_type": "code",
   "execution_count": 47,
   "metadata": {
    "colab": {
     "base_uri": "https://localhost:8080/"
    },
    "id": "JEBs14wmtzuZ",
    "outputId": "019d0677-a5f4-41bd-bcdb-d431c6d32e12"
   },
   "outputs": [
    {
     "name": "stdout",
     "output_type": "stream",
     "text": [
      "Classification Report:\n",
      "              precision    recall  f1-score   support\n",
      "\n",
      "           0       0.75      0.86      0.80         7\n",
      "           1       0.80      0.67      0.73         6\n",
      "\n",
      "    accuracy                           0.77        13\n",
      "   macro avg       0.78      0.76      0.76        13\n",
      "weighted avg       0.77      0.77      0.77        13\n",
      "\n"
     ]
    }
   ],
   "source": [
    "from sklearn.metrics import classification_report\n",
    "\n",
    "# Generate classification report\n",
    "report = classification_report(y_test,y_pred_prob)\n",
    "print('Classification Report:')\n",
    "print(report)\n"
   ]
  },
  {
   "cell_type": "code",
   "execution_count": 48,
   "metadata": {
    "colab": {
     "base_uri": "https://localhost:8080/",
     "height": 472
    },
    "id": "7fNpAtYHwqLF",
    "outputId": "acc79af4-1af7-4c4a-fe9b-cfa97cfdf4b2"
   },
   "outputs": [
    {
     "data": {
      "image/png": "[encoded data removed]",
      "text/plain": [
       "<Figure size 640x480 with 1 Axes>"
      ]
     },
     "metadata": {},
     "output_type": "display_data"
    }
   ],
   "source": [
    "from sklearn.metrics import roc_curve, auc\n",
    "import matplotlib.pyplot as plt\n",
    "\n",
    "# Compute ROC curve and ROC area for each class\n",
    "fpr, tpr, _ = roc_curve(y_test, y_pred_prob)\n",
    "roc_auc = auc(fpr, tpr)\n",
    "\n",
    "# Plot ROC curve\n",
    "plt.figure()\n",
    "plt.plot(fpr, tpr, color='darkorange', lw=2, label='ROC curve (area = %0.2f)' % roc_auc)\n",
    "plt.plot([0, 1], [0, 1], color='navy', lw=2, linestyle='--')\n",
    "plt.xlim([0.0, 1.0])\n",
    "plt.ylim([0.0, 1.05])\n",
    "plt.xlabel('False Positive Rate')\n",
    "plt.ylabel('True Positive Rate')\n",
    "plt.title('Receiver Operating Characteristic')\n",
    "plt.legend(loc='lower right')\n",
    "plt.show()\n"
   ]
  }
 ],
 "metadata": {
  "colab": {
   "provenance": []
  },
  "kernelspec": {
   "display_name": "Python 3 (ipykernel)",
   "language": "python",
   "name": "python3"
  },
  "language_info": {
   "codemirror_mode": {
    "name": "ipython",
    "version": 3
   },
   "file_extension": ".py",
   "mimetype": "text/x-python",
   "name": "python",
   "nbconvert_exporter": "python",
   "pygments_lexer": "ipython3",
   "version": "3.10.12"
  }
 },
 "nbformat": 4,
 "nbformat_minor": 4
}
